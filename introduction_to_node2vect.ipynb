{
 "cells": [
  {
   "cell_type": "code",
   "execution_count": 1,
   "metadata": {},
   "outputs": [
    {
     "name": "stdout",
     "output_type": "stream",
     "text": [
      "Collecting node2vecNote: you may need to restart the kernel to use updated packages.\n",
      "\n",
      "  Downloading node2vec-0.4.4-py3-none-any.whl (6.8 kB)\n",
      "Collecting joblib<2.0.0,>=1.1.0\n",
      "  Downloading joblib-1.1.0-py2.py3-none-any.whl (306 kB)\n",
      "     ------------------------------------ 307.0/307.0 KB 240.4 kB/s eta 0:00:00\n",
      "Collecting tqdm<5.0.0,>=4.55.1\n",
      "  Downloading tqdm-4.64.0-py2.py3-none-any.whl (78 kB)\n",
      "     -------------------------------------- 78.4/78.4 KB 364.7 kB/s eta 0:00:00\n",
      "Collecting numpy<2.0.0,>=1.19.5\n",
      "  Downloading numpy-1.22.3-cp310-cp310-win_amd64.whl (14.7 MB)\n",
      "     ---------------------------------------- 14.7/14.7 MB 1.8 MB/s eta 0:00:00\n",
      "Collecting networkx<3.0,>=2.5\n",
      "  Downloading networkx-2.7.1-py3-none-any.whl (2.0 MB)\n",
      "     ---------------------------------------- 2.0/2.0 MB 1.5 MB/s eta 0:00:00\n",
      "Collecting gensim<5.0.0,>=4.1.2\n",
      "  Downloading gensim-4.1.2.tar.gz (23.2 MB)\n",
      "     ---------------------------------------- 23.2/23.2 MB 1.8 MB/s eta 0:00:00\n",
      "  Preparing metadata (setup.py): started\n",
      "  Preparing metadata (setup.py): finished with status 'done'\n",
      "Collecting scipy>=0.18.1\n",
      "  Downloading scipy-1.8.0-cp310-cp310-win_amd64.whl (37.0 MB)\n",
      "     ---------------------------------------- 37.0/37.0 MB 1.7 MB/s eta 0:00:00\n",
      "Collecting smart_open>=1.8.1\n",
      "  Downloading smart_open-5.2.1-py3-none-any.whl (58 kB)\n",
      "     ---------------------------------------- 58.6/58.6 KB 1.6 MB/s eta 0:00:00\n",
      "Requirement already satisfied: colorama in d:\\pythoninterpreter\\lib\\site-packages (from tqdm<5.0.0,>=4.55.1->node2vec) (0.4.4)\n",
      "Using legacy 'setup.py install' for gensim, since package 'wheel' is not installed.\n",
      "Installing collected packages: tqdm, smart_open, numpy, networkx, joblib, scipy, gensim, node2vec\n",
      "  Running setup.py install for gensim: started\n",
      "  Running setup.py install for gensim: finished with status 'done'\n",
      "Successfully installed gensim-4.1.2 joblib-1.1.0 networkx-2.7.1 node2vec-0.4.4 numpy-1.22.3 scipy-1.8.0 smart_open-5.2.1 tqdm-4.64.0\n"
     ]
    },
    {
     "name": "stderr",
     "output_type": "stream",
     "text": [
      "  WARNING: The script tqdm.exe is installed in 'D:\\PythonInterpreter\\Scripts' which is not on PATH.\n",
      "  Consider adding this directory to PATH or, if you prefer to suppress this warning, use --no-warn-script-location.\n",
      "  WARNING: The script f2py.exe is installed in 'D:\\PythonInterpreter\\Scripts' which is not on PATH.\n",
      "  Consider adding this directory to PATH or, if you prefer to suppress this warning, use --no-warn-script-location.\n"
     ]
    }
   ],
   "source": [
    "pip install node2vec"
   ]
  },
  {
   "cell_type": "code",
   "execution_count": 2,
   "metadata": {},
   "outputs": [
    {
     "name": "stderr",
     "output_type": "stream",
     "text": [
      "D:\\PythonInterpreter\\lib\\site-packages\\tqdm\\auto.py:22: TqdmWarning: IProgress not found. Please update jupyter and ipywidgets. See https://ipywidgets.readthedocs.io/en/stable/user_install.html\n",
      "  from .autonotebook import tqdm as notebook_tqdm\n"
     ]
    }
   ],
   "source": [
    "import networkx as nx\n",
    "from node2vec import Node2Vec"
   ]
  },
  {
   "cell_type": "code",
   "execution_count": 3,
   "metadata": {},
   "outputs": [],
   "source": [
    "# Create a graph\n",
    "graph = nx.fast_gnp_random_graph(n=100, p=0.5)"
   ]
  },
  {
   "cell_type": "code",
   "execution_count": 5,
   "metadata": {},
   "outputs": [
    {
     "name": "stderr",
     "output_type": "stream",
     "text": [
      "Computing transition probabilities: 100%|██████████| 100/100 [00:01<00:00, 97.90it/s]\n"
     ]
    }
   ],
   "source": [
    "# Precompute probabilities and generate walks - **ON WINDOWS ONLY WORKS WITH workers=1**\n",
    "node2vec = Node2Vec(graph, dimensions=64, walk_length=30, num_walks=200, workers=4)  # Use temp_folder for big graphs"
   ]
  },
  {
   "cell_type": "code",
   "execution_count": 6,
   "metadata": {},
   "outputs": [],
   "source": [
    "# Embed nodes\n",
    "model = node2vec.fit(window=10, min_count=1, batch_words=4)  # Any keywords acceptable by gensim.Word2Vec can be passed, `dimensions` and `workers` are automatically passed (from the Node2Vec constructor)"
   ]
  },
  {
   "cell_type": "code",
   "execution_count": 7,
   "metadata": {},
   "outputs": [
    {
     "data": {
      "text/plain": [
       "[('46', 0.527676522731781),\n",
       " ('74', 0.5064496397972107),\n",
       " ('72', 0.4751788377761841),\n",
       " ('25', 0.47396326065063477),\n",
       " ('95', 0.4681757688522339),\n",
       " ('84', 0.4650200605392456),\n",
       " ('52', 0.4648228883743286),\n",
       " ('10', 0.44883275032043457),\n",
       " ('17', 0.4398011565208435),\n",
       " ('30', 0.4394145905971527)]"
      ]
     },
     "execution_count": 7,
     "metadata": {},
     "output_type": "execute_result"
    }
   ],
   "source": [
    "# Look for most similar nodes\n",
    "model.wv.most_similar('2')  # Output node names are always strings"
   ]
  },
  {
   "cell_type": "code",
   "execution_count": 13,
   "metadata": {},
   "outputs": [],
   "source": [
    "# Save embeddings for later use\n",
    "model.wv.save_word2vec_format(\"D:\\EMBEDDING.csv\")"
   ]
  },
  {
   "cell_type": "code",
   "execution_count": 23,
   "metadata": {},
   "outputs": [],
   "source": [
    "# Save model for later use\n",
    "model.save(\"D:\\EMBEDDING_MODEL_FILENAME\")"
   ]
  },
  {
   "cell_type": "code",
   "execution_count": 15,
   "metadata": {},
   "outputs": [],
   "source": [
    "# Embed edges using Hadamard method\n",
    "from node2vec.edges import HadamardEmbedder"
   ]
  },
  {
   "cell_type": "code",
   "execution_count": 17,
   "metadata": {},
   "outputs": [],
   "source": [
    "edges_embs = HadamardEmbedder(keyed_vectors=model.wv)"
   ]
  },
  {
   "cell_type": "code",
   "execution_count": 18,
   "metadata": {},
   "outputs": [
    {
     "data": {
      "text/plain": [
       "array([ 9.5807249e-03,  3.7254172e-03,  3.3791587e-02,  9.5447665e-04,\n",
       "       -9.6970331e-03,  5.6540142e-03,  5.4635282e-04,  1.6554417e-02,\n",
       "        1.8860998e-02, -1.0470149e-02, -2.7012920e-03,  6.3212596e-02,\n",
       "        1.8040871e-02, -2.8443108e-03,  2.2936007e-03,  1.5903729e-03,\n",
       "        3.0545103e-03,  4.3581918e-02, -1.0016528e-02, -9.4600610e-04,\n",
       "        6.0090929e-04,  1.4733123e-03,  4.4853043e-02, -2.7831388e-03,\n",
       "       -3.6959606e-03,  3.1730190e-02,  1.2685126e-02,  2.9302988e-04,\n",
       "       -8.8048750e-04, -2.4939064e-04, -1.0356703e-02, -6.9592549e-03,\n",
       "        8.8103302e-03, -3.5269305e-03,  4.7687180e-02, -4.4514312e-04,\n",
       "        3.8027801e-03, -5.3887283e-03, -7.9686684e-04,  1.9116161e-03,\n",
       "       -1.3124545e-02, -1.6640109e-03,  4.9113831e-03,  1.3847258e-02,\n",
       "        8.7748020e-05,  1.6984027e-02,  1.3410002e-03,  9.8642218e-04,\n",
       "       -1.5710502e-04, -5.7513160e-03,  1.3005565e-03,  2.9148201e-02,\n",
       "       -2.1914061e-02, -2.0090316e-03,  4.9060967e-04,  2.6583536e-02,\n",
       "        1.2077746e-02,  9.8049629e-04, -8.9457887e-04,  1.6963657e-04,\n",
       "        4.2281061e-02,  5.1604426e-03, -9.4589703e-03, -2.2576700e-03],\n",
       "      dtype=float32)"
      ]
     },
     "execution_count": 18,
     "metadata": {},
     "output_type": "execute_result"
    }
   ],
   "source": [
    "# Look for embeddings on the fly - here we pass normal tuples\n",
    "edges_embs[('1', '2')]"
   ]
  },
  {
   "cell_type": "code",
   "execution_count": 19,
   "metadata": {},
   "outputs": [
    {
     "name": "stderr",
     "output_type": "stream",
     "text": [
      "Generating edge features: 100%|██████████| 5050/5050.0 [00:00<00:00, 88591.42it/s]\n"
     ]
    }
   ],
   "source": [
    "# Get all edges in a separate KeyedVectors instance - use with caution could be huge for big networks\n",
    "edges_kv = edges_embs.as_keyed_vectors()"
   ]
  },
  {
   "cell_type": "code",
   "execution_count": 20,
   "metadata": {},
   "outputs": [
    {
     "data": {
      "text/plain": [
       "[(\"('1', '72')\", 0.7549440860748291),\n",
       " (\"('1', '17')\", 0.7177075743675232),\n",
       " (\"('1', '74')\", 0.7153148055076599),\n",
       " (\"('2', '72')\", 0.6955525279045105),\n",
       " (\"('2', '74')\", 0.6657482981681824),\n",
       " (\"('2', '2')\", 0.6613296270370483),\n",
       " (\"('2', '84')\", 0.6541402339935303),\n",
       " (\"('2', '88')\", 0.6535706520080566),\n",
       " (\"('1', '84')\", 0.6446952819824219),\n",
       " (\"('1', '95')\", 0.635215163230896)]"
      ]
     },
     "execution_count": 20,
     "metadata": {},
     "output_type": "execute_result"
    }
   ],
   "source": [
    "# Look for most similar edges - this time tuples must be sorted and as str\n",
    "edges_kv.most_similar(str(('1', '2')))"
   ]
  },
  {
   "cell_type": "code",
   "execution_count": 22,
   "metadata": {},
   "outputs": [],
   "source": [
    "# Save embeddings for later use\n",
    "edges_kv.save_word2vec_format(\"D:\\EDGES_EMBEDDING_FILENAME.csv\")"
   ]
  }
 ],
 "metadata": {
  "interpreter": {
   "hash": "955860f54824145140a1bd432cd5ffa38e33d0c59a387228f8fbed8138b2d78c"
  },
  "kernelspec": {
   "display_name": "Python 3.10.3 64-bit",
   "language": "python",
   "name": "python3"
  },
  "language_info": {
   "codemirror_mode": {
    "name": "ipython",
    "version": 3
   },
   "file_extension": ".py",
   "mimetype": "text/x-python",
   "name": "python",
   "nbconvert_exporter": "python",
   "pygments_lexer": "ipython3",
   "version": "3.10.3"
  },
  "orig_nbformat": 4
 },
 "nbformat": 4,
 "nbformat_minor": 2
}
